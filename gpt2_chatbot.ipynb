{
 "cells": [
  {
   "cell_type": "code",
   "execution_count": 125,
   "metadata": {
    "colab": {
     "base_uri": "https://localhost:8080/",
     "height": 35
    },
    "id": "fOyV5zDtoI6W",
    "outputId": "7e431b0f-ddf8-434f-d45a-30391a489601"
   },
   "outputs": [
    {
     "data": {
      "application/vnd.google.colaboratory.intrinsic+json": {
       "type": "string"
      },
      "text/plain": [
       "'4.24.0'"
      ]
     },
     "execution_count": 125,
     "metadata": {},
     "output_type": "execute_result"
    }
   ],
   "source": [
    "import time\n",
    "import pickle\n",
    "import torch\n",
    "import transformers\n",
    "from torch.utils.data import DataLoader, Dataset\n",
    "import torch.nn.utils.rnn as rnn_utils\n",
    "from transformers import BertTokenizerFast, GPT2LMHeadModel, GPT2Config\n",
    "\n",
    "from torch.nn import DataParallel\n",
    "from tqdm import tqdm\n",
    "import matplotlib.pyplot as plt\n",
    "\n",
    "transformers.__version__"
   ]
  },
  {
   "cell_type": "markdown",
   "metadata": {
    "id": "9SMxZvtPrQJ4"
   },
   "source": [
    "## load_data 生成 pkl 持久化数据"
   ]
  },
  {
   "cell_type": "code",
   "execution_count": null,
   "metadata": {
    "id": "9Lzv3JU1oOa6"
   },
   "outputs": [],
   "source": [
    "# load_data and 预处理\n",
    "def data2tokenid(data, num = 900):\n",
    "    data.append(\"\")\n",
    "    dialogue_list = []\n",
    "    input_ids = [cls_id]\n",
    "    for i, k in enumerate(data):\n",
    "        if k == \"\":\n",
    "            continue\n",
    "        input_ids += tokenizer.encode(k, add_special_tokens=False)\n",
    "        input_ids.append(sep_id)\n",
    "        if (data[i+1] == \"\"):\n",
    "            dialogue_list.append(input_ids)\n",
    "            input_ids = [cls_id]\n",
    "        elif i>num:\n",
    "            break\n",
    "        else:\n",
    "            continue\n",
    "    return dialogue_list\n",
    "\n",
    "# 处理加载\n",
    "tokenizer = BertTokenizerFast(\"./vocab/vocab.txt\", \n",
    "                  sep_token=\"[SEP]\", pad_token=\"[PAD]\", cls_token=\"[CLS]\")\n",
    "sep_id = tokenizer.sep_token_id\n",
    "cls_id = tokenizer.cls_token_id\n",
    "\n",
    "# txt2pkl\n",
    "# with open(\"./data/train.txt\", 'rb') as f:\n",
    "#     data = f.read().decode(\"utf-8\")\n",
    "with open(\"./data/train.txt\", \"r\", encoding=\"utf8\") as f:\n",
    "    \"\"\" # 数据结构\n",
    "    text1a\n",
    "    text1b\n",
    "\n",
    "    text2a\n",
    "    text2b\n",
    "    \"\"\"\n",
    "    data = f.readlines()\n",
    "    data = [i.strip()[1:-1] for i in data]\n",
    "    \n",
    "# conten2id\n",
    "dialogue_list = data2tokenid(data, num=6000) # num 3的倍数\n",
    "\n",
    "# to_pkl\n",
    "with open(\"./data/train.pkl\", \"wb\") as f:\n",
    "    pickle.dump(dialogue_list, f)"
   ]
  },
  {
   "cell_type": "markdown",
   "metadata": {
    "id": "YLGTnhFUsMUl"
   },
   "source": [
    "## model and train"
   ]
  },
  {
   "cell_type": "code",
   "execution_count": null,
   "metadata": {
    "id": "inOOGILlrav9"
   },
   "outputs": [],
   "source": [
    "class My_dataset():\n",
    "    def __init__(self, input_list, max_len):\n",
    "        self.input_list = input_list\n",
    "        self.max_len = max_len\n",
    "    def __getitem__(self, index):\n",
    "        input_ids=self.input_list[index]\n",
    "        input_ids = input_ids[:self.max_len]\n",
    "        input_ids = torch.tensor(input_ids, dtype=torch.long)\n",
    "        return input_ids\n",
    "    def __len__(self):\n",
    "        return len(self.input_list)\n",
    "    \n",
    "# load data 数据划分\n",
    "def load_dataset():\n",
    "    with open(\"./data/train.pkl\", \"rb\") as f:\n",
    "        input_list = pickle.load(f)\n",
    "\n",
    "    input_list = input_list[0:4000]\n",
    "    \n",
    "    input_list_train = input_list[:-500]\n",
    "    input_list_val = input_list[-500:]\n",
    "    \n",
    "    train_dataset = My_dataset(input_list_train, max_len=50)\n",
    "    val_dataset = My_dataset(input_list_val, max_len=50)\n",
    "    \n",
    "    return train_dataset, val_dataset\n",
    "\n",
    "# data 转换\n",
    "def collate_fn(batch):\n",
    "    input_ids = rnn_utils.pad_sequence(batch, batch_first=True, padding_value=0)\n",
    "    labels = rnn_utils.pad_sequence(batch, batch_first=True, padding_value=-100)\n",
    "    return input_ids, labels"
   ]
  },
  {
   "cell_type": "code",
   "execution_count": null,
   "metadata": {
    "id": "ltDZDkEdsQJ7"
   },
   "outputs": [],
   "source": [
    "def calculate_acc(logit, labels, ignore_index=-100):\n",
    "    logit = logit[..., :-1, :].contiguous().view(-1, logit.size(-1))\n",
    "    labels = labels[..., 1:].contiguous().view(-1)\n",
    "    _, logit = logit.max(dim=-1)\n",
    "    non_pad_mask = labels.ne(ignore_index)\n",
    "    n_correct = logit.eq(labels).masked_select(non_pad_mask).sum().item()\n",
    "    n_word = non_pad_mask.sum().item()\n",
    "    return n_correct, n_word"
   ]
  },
  {
   "cell_type": "code",
   "execution_count": null,
   "metadata": {
    "id": "4wmC60VNsSN2"
   },
   "outputs": [],
   "source": [
    "def train_epoch(model, train_dataloader, optimizer, scheduler, epoch):\n",
    "    model.train()\n",
    "    epoch_start_time = time.time()\n",
    "    total_loss = 0\n",
    "    \n",
    "    # epoch_correct_num:每个epoch中,output预测正确的word的数量\n",
    "    # epoch_total_num: 每个epoch中,output预测的word的总数量\n",
    "    epoch_correct_num, epoch_total_num = 0, 0\n",
    "    \n",
    "    for batch_i, (input_ids, labels) in enumerate(train_dataloader):\n",
    "        # print(input_ids,\"--\", labels)\n",
    "        input_ids = input_ids.to(device)\n",
    "        labels = labels.to(device)\n",
    "        outputs = model.forward(input_ids, labels=labels)\n",
    "        logits = outputs.logits\n",
    "        loss = outputs.loss\n",
    "        loss_mean = loss.mean()\n",
    "        \n",
    "        n_correct, n_word = calculate_acc(logits, labels)\n",
    "        epoch_correct_num += n_correct\n",
    "        epoch_total_num +=n_word\n",
    "        batch_acc = n_correct/n_word\n",
    "        total_loss += loss_mean.item()\n",
    "        gradient_accumulation_steps = 4\n",
    "        if gradient_accumulation_steps>1: # 梯度累计步长\n",
    "            loss = loss/ gradient_accumulation_steps\n",
    "        loss.backward()\n",
    "        # 梯度裁剪-解决梯度爆炸\n",
    "        torch.nn.utils.clip_grad_norm_(model.parameters(), max_norm=2.0)\n",
    "        \n",
    "        # 进行一定的step的梯度累计后，更新参数\n",
    "        if (batch_i+1)%gradient_accumulation_steps == 0:\n",
    "            optimizer.step()       # 参数更新\n",
    "            scheduler.step()       # 学习率更新\n",
    "            optimizer.zero_grad()  #梯度清空\n",
    "    \n",
    "    epoch_mean_loss = total_loss / len(train_dataloader)      # 平均loss\n",
    "    epoch_mean_acc = epoch_correct_num / epoch_total_num      # 平均准确率\n",
    "    model_path = \"model-{}\".format(epoch)                     # 第几轮保存\n",
    "    model2save = model.module if hasattr(model, \"module\") else model\n",
    "    model2save.save_pretrained(model_path)\n",
    "    epoch_end_time = time.time()\n",
    "    print(\"epoch-{}, loss-{}, cost {} second\".format(epoch, epoch_mean_loss, epoch_end_time-epoch_start_time))\n",
    "    \n",
    "    return epoch_mean_loss, epoch_mean_acc\n",
    "\n",
    "def validate_epoch(model, val_dataloader, epoch):\n",
    "    start_time = time.time()\n",
    "    model.eval()\n",
    "    total_loss = 0\n",
    "    with torch.no_grad():\n",
    "        for batch_i, (input_ids, labels) in enumerate(val_dataloader):\n",
    "\n",
    "            input_ids = input_ids.to(device)\n",
    "            labels = labels.to(device)\n",
    "            outputs = model.forward(input_ids, labels=labels)\n",
    "            logits = outputs.logits\n",
    "            loss = outputs.loss\n",
    "            loss_mean = loss.mean()\n",
    "            total_loss +=loss_mean.item()\n",
    "        epoch_mean_loss = total_loss / len(val_dataloader)\n",
    "        end_time = time.time()\n",
    "        print(\"val-{}, loss-{}, cost {} second\".format(epoch, epoch_mean_loss, end_time-start_time))\n",
    "        return epoch_mean_loss"
   ]
  },
  {
   "cell_type": "code",
   "execution_count": null,
   "metadata": {
    "id": "5dnhWxcNsUkm"
   },
   "outputs": [],
   "source": [
    "# train\n",
    "def train(model, train_dataloader, val_dataloader):\n",
    "#     early_stopping = EarlyStopping(args.patience, verbose=True, save_path=args.save_model_path)\n",
    "    t_total=len(train_dataloader)// 4 *epochs*50\n",
    "    optimizer = transformers.AdamW(model.parameters(), lr=lr, eps = eps) # eps 衰减率\n",
    "    # 学习率预热\n",
    "    scheduler = transformers.get_linear_schedule_with_warmup(optimizer, num_warmup_steps=4000, num_training_steps=t_total)\n",
    "    \n",
    "    train_losses, validate_losses = [], []\n",
    "    train_acces, val_acces = [], [] \n",
    "    best_val_loss = 10    # 验证集最小loss\n",
    "    for epoch in range(epochs):\n",
    "        train_loss, train_acc = train_epoch(model, train_dataloader, optimizer, scheduler, epoch)\n",
    "        train_losses.append(train_loss)\n",
    "        train_acces.append(train_acc)\n",
    "        \n",
    "        val_loss = validate_epoch(model, val_dataloader, epoch)\n",
    "        validate_losses.append(val_loss)\n",
    "        \n",
    "        if val_loss < best_val_loss:\n",
    "            model_path = \"min_ppl_model\".format(epoch)\n",
    "            model_to_save = model.module if hasattr(model, 'module') else model\n",
    "            model_to_save.save_pretrained(model_path)\n",
    "            \n",
    "    return train_losses, validate_losses"
   ]
  },
  {
   "cell_type": "code",
   "execution_count": null,
   "metadata": {
    "id": "_x50UnFqsWZ2"
   },
   "outputs": [],
   "source": [
    "batch_size = 4\n",
    "epochs = 60\n",
    "lr = 2.6e-5\n",
    "# lr = 1e-4\n",
    "eps = 1e-9\n",
    "\n",
    "device = \"cuda\" if torch.cuda.is_available() else \"cpu\""
   ]
  },
  {
   "cell_type": "code",
   "execution_count": null,
   "metadata": {
    "id": "WmCPLSFysaar"
   },
   "outputs": [],
   "source": [
    "# 模型加载\n",
    "# model_config = GPT2Config.from_json_file(r\"./model.pt/config.json\")\n",
    "# model = GPT2LMHeadModel(config=model_config)\n",
    "model = GPT2LMHeadModel.from_pretrained(\"gpt2\")\n",
    "\n",
    "model.to(device)\n",
    "\n",
    "# 数据加载\n",
    "train_dataset, val_dataset = load_dataset()\n",
    "train_dataloader = DataLoader(train_dataset, batch_size=batch_size, shuffle=True, collate_fn=collate_fn, drop_last=True)\n",
    "val_dataloader = DataLoader(val_dataset, batch_size=batch_size, shuffle=True, collate_fn=collate_fn, drop_last=True)\n",
    "\n",
    "# train\n",
    "train_l,val_l = train(model,train_dataloader, val_dataloader)"
   ]
  },
  {
   "cell_type": "code",
   "execution_count": 122,
   "metadata": {
    "colab": {
     "base_uri": "https://localhost:8080/",
     "height": 374
    },
    "id": "QHkGrQDN25tW",
    "outputId": "e192202d-f94a-4baf-c2ab-b7672ea40f89"
   },
   "outputs": [
    {
     "data": {
      "image/png": "[encoded data removed]",
      "text/plain": [
       "<Figure size 864x432 with 1 Axes>"
      ]
     },
     "metadata": {
      "needs_background": "light"
     },
     "output_type": "display_data"
    }
   ],
   "source": [
    "plt.figure(figsize=(12,6))\n",
    "plt.plot(train_l)\n",
    "plt.plot(val_l)\n",
    "plt.legend([\"train_loss\", \"val_loss\"])\n",
    "plt.show()"
   ]
  }
 ],
 "metadata": {
  "accelerator": "GPU",
  "colab": {
   "provenance": []
  },
  "gpuClass": "standard",
  "kernelspec": {
   "display_name": "Python 3",
   "language": "python",
   "name": "python3"
  },
  "language_info": {
   "codemirror_mode": {
    "name": "ipython",
    "version": 3
   },
   "file_extension": ".py",
   "mimetype": "text/x-python",
   "name": "python",
   "nbconvert_exporter": "python",
   "pygments_lexer": "ipython3",
   "version": "3.8.8"
  }
 },
 "nbformat": 4,
 "nbformat_minor": 1
}
